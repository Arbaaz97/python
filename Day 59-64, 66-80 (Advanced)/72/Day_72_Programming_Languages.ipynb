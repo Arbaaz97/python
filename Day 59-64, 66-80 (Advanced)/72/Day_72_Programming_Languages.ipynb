{
  "nbformat": 4,
  "nbformat_minor": 0,
  "metadata": {
    "colab": {
      "name": "Day 72 - Programming Languages.ipynb",
      "provenance": [],
      "toc_visible": true
    },
    "kernelspec": {
      "name": "python3",
      "display_name": "Python 3"
    },
    "language_info": {
      "name": "python"
    }
  },
  "cells": [
    {
      "cell_type": "markdown",
      "metadata": {
        "id": "DdlvRhDAVf5f"
      },
      "source": [
        "### **Course Content**\n",
        "##### Day 72 of 100 Days of Python\n",
        "##### Project Name: Analyzing Programming Languages\n",
        "##### Things I implemented: Pandas, Matplotlib"
      ]
    },
    {
      "cell_type": "markdown",
      "metadata": {
        "id": "GTaODcZVVqkx"
      },
      "source": [
        "# Preliminary Data Exploration"
      ]
    },
    {
      "cell_type": "code",
      "metadata": {
        "id": "HyhU1qHMVzfA"
      },
      "source": [
        "import pandas as pd # import module"
      ],
      "execution_count": 1,
      "outputs": []
    },
    {
      "cell_type": "code",
      "metadata": {
        "id": "irlMESeUV25n"
      },
      "source": [
        "# Read the csv file and change the column names \n",
        "df = pd.read_csv(filepath_or_buffer='sample_data/programming_languages_survey.csv', header=0, names=['Date', 'Tag', 'Posts'])"
      ],
      "execution_count": 2,
      "outputs": []
    },
    {
      "cell_type": "code",
      "metadata": {
        "id": "hdz3VfipW9aw"
      },
      "source": [
        "df # make sure the columns are correct"
      ],
      "execution_count": null,
      "outputs": []
    },
    {
      "cell_type": "code",
      "metadata": {
        "id": "BMVNUOnrW_fk"
      },
      "source": [
        "df.head() # look at first 5 rows"
      ],
      "execution_count": null,
      "outputs": []
    },
    {
      "cell_type": "code",
      "metadata": {
        "id": "bojwyRIFXSog"
      },
      "source": [
        "df.tail() # look at last 5 rows"
      ],
      "execution_count": null,
      "outputs": []
    },
    {
      "cell_type": "code",
      "metadata": {
        "id": "8JQwrlDhXSzE"
      },
      "source": [
        "df.shape # count how many rows and columns / shape of the dataframe"
      ],
      "execution_count": null,
      "outputs": []
    },
    {
      "cell_type": "code",
      "metadata": {
        "id": "XPSYF1UgXfWG"
      },
      "source": [
        "df.count() # count number of entries in each column"
      ],
      "execution_count": null,
      "outputs": []
    },
    {
      "cell_type": "markdown",
      "metadata": {
        "id": "Brrj6eQZYyrQ"
      },
      "source": [
        "# Analysis of Programming Languages"
      ]
    },
    {
      "cell_type": "code",
      "metadata": {
        "id": "lvVosmJBX7E2"
      },
      "source": [
        "df.groupby('Tag').count() # number of months per Programming Language"
      ],
      "execution_count": null,
      "outputs": []
    },
    {
      "cell_type": "code",
      "metadata": {
        "id": "cV8JHu0kY5tP"
      },
      "source": [
        "df.groupby('Tag').sum() # number of posts per tag"
      ],
      "execution_count": null,
      "outputs": []
    },
    {
      "cell_type": "markdown",
      "metadata": {
        "id": "neKrm0y8ZFMF"
      },
      "source": [
        "# Data Cleaning: Working with timestamps"
      ]
    },
    {
      "cell_type": "code",
      "metadata": {
        "id": "bjDRb_1xZIL4"
      },
      "source": [
        "df['Date'] = pd.to_datetime(df['Date']) # convert all date from string to datetime"
      ],
      "execution_count": 19,
      "outputs": []
    },
    {
      "cell_type": "code",
      "metadata": {
        "id": "uh8NAo_oZeLI"
      },
      "source": [
        "df.head()"
      ],
      "execution_count": null,
      "outputs": []
    },
    {
      "cell_type": "markdown",
      "metadata": {
        "id": "IOZiNOxeZkaG"
      },
      "source": [
        "# Data Manipulation: Pivoting Dataframes"
      ]
    },
    {
      "cell_type": "code",
      "metadata": {
        "id": "kn_6MYRAZz2e"
      },
      "source": [
        "# CHALLENGE: Create a new dataframe called as reshaped_df, with programming languages as its columns, \n",
        "# date as its index, and posts as its value\n",
        "\n",
        "reshaped_df = df.pivot(index = 'Date', columns='Tag', values='Posts')\n",
        "reshaped_df.head()"
      ],
      "execution_count": null,
      "outputs": []
    },
    {
      "cell_type": "code",
      "metadata": {
        "id": "TQ6Ut1i4bhx_"
      },
      "source": [
        "reshaped_df.tail()"
      ],
      "execution_count": null,
      "outputs": []
    },
    {
      "cell_type": "code",
      "metadata": {
        "id": "fyLaFm42hbwH"
      },
      "source": [
        "reshaped_df.fillna(0, inplace=True)"
      ],
      "execution_count": 57,
      "outputs": []
    },
    {
      "cell_type": "code",
      "metadata": {
        "colab": {
          "base_uri": "https://localhost:8080/"
        },
        "id": "g7bQLkadblRS",
        "outputId": "38122902-7b94-42bd-8519-d0772528acbd"
      },
      "source": [
        "reshaped_df.shape # shape of new dataframe"
      ],
      "execution_count": 59,
      "outputs": [
        {
          "output_type": "execute_result",
          "data": {
            "text/plain": [
              "(145, 14)"
            ]
          },
          "metadata": {
            "tags": []
          },
          "execution_count": 59
        }
      ]
    },
    {
      "cell_type": "code",
      "metadata": {
        "id": "rqr--TSCbnvm"
      },
      "source": [
        "reshaped_df.count() # number of entries per column"
      ],
      "execution_count": null,
      "outputs": []
    },
    {
      "cell_type": "code",
      "metadata": {
        "colab": {
          "base_uri": "https://localhost:8080/"
        },
        "id": "v_fJcaTabwRM",
        "outputId": "e7c0c516-e384-4667-e4fd-2701da507703"
      },
      "source": [
        "reshaped_df.columns"
      ],
      "execution_count": 61,
      "outputs": [
        {
          "output_type": "execute_result",
          "data": {
            "text/plain": [
              "Index(['assembly', 'c', 'c#', 'c++', 'delphi', 'go', 'java', 'javascript',\n",
              "       'perl', 'php', 'python', 'r', 'ruby', 'swift'],\n",
              "      dtype='object', name='Tag')"
            ]
          },
          "metadata": {
            "tags": []
          },
          "execution_count": 61
        }
      ]
    },
    {
      "cell_type": "markdown",
      "metadata": {
        "id": "wSemTm7fcA7p"
      },
      "source": [
        "# Data Visualization with Matplotlib"
      ]
    },
    {
      "cell_type": "code",
      "metadata": {
        "id": "nL7sz0R-cErV"
      },
      "source": [
        "import matplotlib.pyplot as plt # I can also put it at the top to make it more readable, but i don't really care right now"
      ],
      "execution_count": 62,
      "outputs": []
    },
    {
      "cell_type": "code",
      "metadata": {
        "id": "DE1jUH7CcWHu"
      },
      "source": [
        "# Plotting a single programming language\n",
        "plt.figure(figsize=(12,16))\n",
        "plt.xlabel('Date', fontsize=15)\n",
        "plt.ylabel('Number of Posts', fontsize=15)\n",
        "plt.plot(reshaped_df.index, reshaped_df['java'])"
      ],
      "execution_count": null,
      "outputs": []
    },
    {
      "cell_type": "code",
      "metadata": {
        "id": "v4LMavIaelqg"
      },
      "source": [
        "# Plotting Python and Java\n",
        "plt.figure(figsize=(12,16))\n",
        "plt.xlabel('Date', fontsize=15)\n",
        "plt.ylabel('Number of Posts', fontsize=15)\n",
        "plt.plot(reshaped_df.index, reshaped_df['java'])\n",
        "plt.plot(reshaped_df.index, reshaped_df['python'])"
      ],
      "execution_count": null,
      "outputs": []
    },
    {
      "cell_type": "code",
      "metadata": {
        "id": "KC83jXuOfCSb"
      },
      "source": [
        "# Plot everything\n",
        "\n",
        "# Make the plot smoother\n",
        "\n",
        "roll_df = reshaped_df.rolling(window=12).mean()\n",
        "# Make it into a dataframe composed of averages observations\n",
        "\n",
        "plt.figure(figsize=(12,16)) # manipulate the figure size\n",
        "\n",
        "# Add the labels\n",
        "plt.xlabel('Date', fontsize=15)\n",
        "plt.ylabel('Number of Posts', fontsize=15)\n",
        "\n",
        "# Add the plots\n",
        "for column in roll_df.columns:\n",
        "  plt.plot(roll_df.index, roll_df[column], linewidth=2, label=column)\n",
        "\n",
        "# Create legend to explain which color is which\n",
        "plt.legend(fontsize=15)"
      ],
      "execution_count": null,
      "outputs": []
    }
  ]
}